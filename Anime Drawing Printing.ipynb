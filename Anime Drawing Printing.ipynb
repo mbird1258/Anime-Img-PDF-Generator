{
 "cells": [
  {
   "cell_type": "code",
   "execution_count": 13,
   "id": "12c359e6",
   "metadata": {},
   "outputs": [],
   "source": [
    "OPACITY = 0.5\n",
    "NUM_IMAGES = 20"
   ]
  },
  {
   "cell_type": "code",
   "execution_count": null,
   "id": "d3f182dd",
   "metadata": {},
   "outputs": [],
   "source": [
    "import io\n",
    "import webbrowser\n",
    "from PIL import Image\n",
    "import img2pdf\n",
    "import os\n",
    "import requests\n",
    "\n",
    "def GetImage():\n",
    "    url = 'https://api.waifu.im/search'\n",
    "    response = requests.get(url)\n",
    "    data = response.json()\n",
    "    response = requests.get(data[\"images\"][0][\"url\"])\n",
    "    return response.content"
   ]
  },
  {
   "cell_type": "code",
   "execution_count": null,
   "id": "765a326c",
   "metadata": {},
   "outputs": [
    {
     "data": {
      "text/plain": [
       "True"
      ]
     },
     "execution_count": 15,
     "metadata": {},
     "output_type": "execute_result"
    }
   ],
   "source": [
    "def CreateTransparentPDF(images, opacity=0.5):\n",
    "    ProcessedImages = []\n",
    "    \n",
    "    for img in images:\n",
    "        img = Image.open(io.BytesIO(img)).convert(\"RGBA\")\n",
    "        \n",
    "        alpha = img.split()[3]\n",
    "        alpha = alpha.point(lambda p: int(p * opacity))\n",
    "        img.putalpha(alpha)\n",
    "        rgb_img = Image.new(\"RGB\", img.size, (255, 255, 255))\n",
    "        rgb_img.paste(img, mask=img.split()[3])\n",
    "        ProcessedImages.append(rgb_img)\n",
    "    \n",
    "    temp_files = []\n",
    "    for i, img in enumerate(ProcessedImages):\n",
    "        temp_path = f\"temp_{i}.jpg\"\n",
    "        img.save(temp_path, \"JPEG\")\n",
    "        temp_files.append(temp_path)\n",
    "    \n",
    "    with open(\"out.pdf\", \"wb\") as f:\n",
    "        f.write(img2pdf.convert(temp_files))\n",
    "    \n",
    "    for temp_file in temp_files:\n",
    "        os.remove(temp_file)\n",
    "\n",
    "CreateTransparentPDF([GetImage() for _ in range(NUM_IMAGES)])\n",
    "webbrowser.open_new_tab(f'file://{os.path.abspath(\"out.pdf\")}')"
   ]
  }
 ],
 "metadata": {
  "kernelspec": {
   "display_name": "Python 3",
   "language": "python",
   "name": "python3"
  },
  "language_info": {
   "codemirror_mode": {
    "name": "ipython",
    "version": 3
   },
   "file_extension": ".py",
   "mimetype": "text/x-python",
   "name": "python",
   "nbconvert_exporter": "python",
   "pygments_lexer": "ipython3",
   "version": "3.11.1"
  }
 },
 "nbformat": 4,
 "nbformat_minor": 5
}
